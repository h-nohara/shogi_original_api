{
 "cells": [
  {
   "cell_type": "code",
   "execution_count": 1,
   "metadata": {},
   "outputs": [],
   "source": [
    "import os, sys, numpy"
   ]
  },
  {
   "cell_type": "code",
   "execution_count": 2,
   "metadata": {},
   "outputs": [],
   "source": [
    "from board import Board\n",
    "from move import get_legal_moves"
   ]
  },
  {
   "cell_type": "code",
   "execution_count": 3,
   "metadata": {
    "scrolled": true
   },
   "outputs": [
    {
     "name": "stdout",
     "output_type": "stream",
     "text": [
      "['1716', '2726', '3736', '4746', '5756', '6766', '7776', '8786', '9796', '2838', '2848', '2858', '2868', '2878', '2818', '1918', '3938', '3948', '4938', '4948', '4958', '5948', '5958', '5968', '6958', '6968', '6978', '7968', '7978', '9998']\n",
      "====================\n",
      "99\n",
      "0.000293731689453125\n",
      "0.029088735580444336\n"
     ]
    }
   ],
   "source": [
    "b = Board()"
   ]
  },
  {
   "cell_type": "code",
   "execution_count": 4,
   "metadata": {},
   "outputs": [
    {
     "name": "stdout",
     "output_type": "stream",
     "text": [
      "v香v桂v銀v金v王v金v銀v桂v香\n",
      "n一v飛n一n一n一n一n一v角n一\n",
      "v歩v歩v歩v歩v歩v歩v歩v歩v歩\n",
      "n一n一n一n一n一n一n一n一n一\n",
      "n一n一n一n一n一n一n一n一n一\n",
      "n一n一n一n一n一n一n一n一n一\n",
      "a歩a歩a歩a歩a歩a歩a歩a歩a歩\n",
      "n一a角n一n一n一n一n一a飛n一\n",
      "a香a桂a銀a金a王a金a銀a桂a香\n"
     ]
    }
   ],
   "source": [
    "print(b)"
   ]
  },
  {
   "cell_type": "code",
   "execution_count": 5,
   "metadata": {
    "scrolled": true
   },
   "outputs": [
    {
     "data": {
      "text/plain": [
       "['1716',\n",
       " '2726',\n",
       " '3736',\n",
       " '4746',\n",
       " '5756',\n",
       " '6766',\n",
       " '7776',\n",
       " '8786',\n",
       " '9796',\n",
       " '2838',\n",
       " '2848',\n",
       " '2858',\n",
       " '2868',\n",
       " '2878',\n",
       " '2818',\n",
       " '1918',\n",
       " '3938',\n",
       " '3948',\n",
       " '4938',\n",
       " '4948',\n",
       " '4958',\n",
       " '5948',\n",
       " '5958',\n",
       " '5968',\n",
       " '6958',\n",
       " '6968',\n",
       " '6978',\n",
       " '7968',\n",
       " '7978',\n",
       " '9998']"
      ]
     },
     "execution_count": 5,
     "metadata": {},
     "output_type": "execute_result"
    }
   ],
   "source": [
    "b.legal_moves"
   ]
  },
  {
   "cell_type": "code",
   "execution_count": 6,
   "metadata": {},
   "outputs": [
    {
     "data": {
      "text/plain": [
       "True"
      ]
     },
     "execution_count": 6,
     "metadata": {},
     "output_type": "execute_result"
    }
   ],
   "source": [
    "b.is_sente"
   ]
  },
  {
   "cell_type": "code",
   "execution_count": 7,
   "metadata": {
    "scrolled": true
   },
   "outputs": [
    {
     "name": "stdout",
     "output_type": "stream",
     "text": [
      "~~~~~~~~~~~~~~~~~~~~\n",
      "99\n",
      "%%%%%%%%%%%%%%%%%%%%\n",
      "99\n",
      "['1112', '3132', '3142', '4132', '4142', '4152', '5142', '5152', '5162', '6152', '6162', '6172', '7162', '7172', '9192', '8292', '8272', '8262', '8252', '8242', '8232', '1314', '2324', '3334', '4344', '5354', '6364', '7374', '8384', '9394']\n",
      "====================\n",
      "99\n",
      "0.0006151199340820312\n",
      "0.07998394966125488\n",
      "eeeeeeeeeeeeeeeeeeee\n",
      "99\n"
     ]
    }
   ],
   "source": [
    "b.move(\"7776\")"
   ]
  },
  {
   "cell_type": "code",
   "execution_count": 8,
   "metadata": {},
   "outputs": [
    {
     "name": "stdout",
     "output_type": "stream",
     "text": [
      "v香v桂v銀v金v王v金v銀v桂v香\n",
      "n一v飛n一n一n一n一n一v角n一\n",
      "v歩v歩v歩v歩v歩v歩v歩v歩v歩\n",
      "n一n一n一n一n一n一n一n一n一\n",
      "n一n一n一n一n一n一n一n一n一\n",
      "n一n一a歩n一n一n一n一n一n一\n",
      "a歩a歩n一a歩a歩a歩a歩a歩a歩\n",
      "n一a角n一n一n一n一n一a飛n一\n",
      "a香a桂a銀a金a王a金a銀a桂a香\n"
     ]
    }
   ],
   "source": [
    "print(b)"
   ]
  },
  {
   "cell_type": "code",
   "execution_count": 9,
   "metadata": {
    "scrolled": true
   },
   "outputs": [
    {
     "name": "stdout",
     "output_type": "stream",
     "text": [
      "~~~~~~~~~~~~~~~~~~~~\n",
      "99\n",
      "%%%%%%%%%%%%%%%%%%%%\n",
      "99\n",
      "['7675', '1716', '2726', '3736', '4746', '5756', '6766', '8786', '9796', '2838', '2848', '2858', '2868', '2878', '2818', '8877', '8866', '8855', '8844', '8833', '8833+', '1918', '3938', '3948', '4938', '4948', '4958', '5948', '5958', '5968', '6958', '6968', '6978', '7968', '7978', '8977', '9998']\n",
      "====================\n",
      "99\n",
      "0.0005168914794921875\n",
      "0.07555317878723145\n",
      "eeeeeeeeeeeeeeeeeeee\n",
      "99\n",
      "v香v桂v銀v金v王v金v銀v桂v香\n",
      "n一v飛n一n一n一n一n一v角n一\n",
      "v歩v歩n一v歩v歩v歩v歩v歩v歩\n",
      "n一n一v歩n一n一n一n一n一n一\n",
      "n一n一n一n一n一n一n一n一n一\n",
      "n一n一a歩n一n一n一n一n一n一\n",
      "a歩a歩n一a歩a歩a歩a歩a歩a歩\n",
      "n一a角n一n一n一n一n一a飛n一\n",
      "a香a桂a銀a金a王a金a銀a桂a香\n"
     ]
    }
   ],
   "source": [
    "b.move(\"7374\")\n",
    "print(b)"
   ]
  },
  {
   "cell_type": "code",
   "execution_count": 10,
   "metadata": {},
   "outputs": [
    {
     "name": "stdout",
     "output_type": "stream",
     "text": [
      "~~~~~~~~~~~~~~~~~~~~\n",
      "99\n",
      "%%%%%%%%%%%%%%%%%%%%\n",
      "99\n",
      "['1112', '3132', '3142', '4132', '4142', '4152', '5142', '5152', '5162', '6152', '6162', '6172', '7162', '7172', '8173', '9192', '8292', '8272', '8262', '8252', '8242', '8232', '1314', '2324', '3334', '4344', '5354', '6364', '8384', '9394', '7475']\n",
      "====================\n",
      "99\n",
      "0.00035309791564941406\n",
      "0.0718069076538086\n",
      "eeeeeeeeeeeeeeeeeeee\n",
      "99\n",
      "~~~~~~~~~~~~~~~~~~~~\n",
      "99\n",
      "%%%%%%%%%%%%%%%%%%%%\n",
      "99\n",
      "['7675', '1716', '2726', '3736', '4746', '5756', '6766', '7788', '7786', '7795', '7768', '7766', '7755', '7744', '7733', '7733+', '8786', '9796', '2838', '2848', '2858', '2868', '2878', '2888', '2898', '2818', '1918', '3938', '3948', '4938', '4948', '4958', '5948', '5958', '5968', '6958', '6968', '6978', '7968', '7978', '7988', '9998']\n",
      "====================\n",
      "99\n",
      "0.000240325927734375\n",
      "0.07702803611755371\n",
      "eeeeeeeeeeeeeeeeeeee\n",
      "99\n",
      "~~~~~~~~~~~~~~~~~~~~\n",
      "99\n",
      "%%%%%%%%%%%%%%%%%%%%\n",
      "99\n",
      "['3132', '3142', '4132', '4142', '4152', '5142', '5152', '5162', '6152', '6162', '6172', '7162', '7172', '8173', '9192', '2211', '8292', '8272', '8262', '8252', '8242', '8232', '1314', '2324', '3334', '4344', '5354', '6364', '8384', '9394', '7475']\n",
      "====================\n",
      "99\n",
      "0.00020623207092285156\n",
      "0.05500316619873047\n",
      "eeeeeeeeeeeeeeeeeeee\n",
      "99\n"
     ]
    }
   ],
   "source": [
    "b.move(\"8877\")\n",
    "b.move(\"1112\")\n",
    "b.move(\"7795\")"
   ]
  },
  {
   "cell_type": "code",
   "execution_count": 11,
   "metadata": {},
   "outputs": [
    {
     "name": "stdout",
     "output_type": "stream",
     "text": [
      "v香v桂v銀v金v王v金v銀v桂n一\n",
      "n一v飛n一n一n一n一n一v角v香\n",
      "v歩v歩n一v歩v歩v歩v歩v歩v歩\n",
      "n一n一v歩n一n一n一n一n一n一\n",
      "a角n一n一n一n一n一n一n一n一\n",
      "n一n一a歩n一n一n一n一n一n一\n",
      "a歩a歩n一a歩a歩a歩a歩a歩a歩\n",
      "n一n一n一n一n一n一n一a飛n一\n",
      "a香a桂a銀a金a王a金a銀a桂a香\n"
     ]
    }
   ],
   "source": [
    "print(b)"
   ]
  },
  {
   "cell_type": "code",
   "execution_count": 12,
   "metadata": {},
   "outputs": [
    {
     "data": {
      "text/plain": [
       "['5142', '5152', '6162', '7162', '8173', '8262', '8384']"
      ]
     },
     "execution_count": 12,
     "metadata": {},
     "output_type": "execute_result"
    }
   ],
   "source": [
    "b.legal_moves"
   ]
  },
  {
   "cell_type": "code",
   "execution_count": 13,
   "metadata": {},
   "outputs": [
    {
     "data": {
      "text/plain": [
       "{'gote': {'FU': 0, 'GI': 0, 'HI': 0, 'KA': 0, 'KE': 0, 'KI': 0, 'KY': 0},\n",
       " 'sente': {'FU': 0, 'GI': 0, 'HI': 0, 'KA': 0, 'KE': 0, 'KI': 0, 'KY': 0}}"
      ]
     },
     "execution_count": 13,
     "metadata": {},
     "output_type": "execute_result"
    }
   ],
   "source": [
    "b.all_pieces[\"hand\"]"
   ]
  },
  {
   "cell_type": "code",
   "execution_count": 14,
   "metadata": {},
   "outputs": [
    {
     "name": "stdout",
     "output_type": "stream",
     "text": [
      "~~~~~~~~~~~~~~~~~~~~\n",
      "99\n",
      "%%%%%%%%%%%%%%%%%%%%\n",
      "99\n",
      "['9586', '9577', '9568', '9584', '9573', '9573+', '9562', '9562+', '7675', '1716', '2726', '3736', '4746', '5756', '6766', '8786', '9796', '2838', '2848', '2858', '2868', '2878', '2888', '2898', '2818', '1918', '3938', '3948', '4938', '4948', '4958', '5948', '5958', '5968', '6958', '6968', '6978', '7968', '7978', '7988', '8977', '9998']\n",
      "====================\n",
      "99\n",
      "0.0004646778106689453\n",
      "0.1004180908203125\n",
      "eeeeeeeeeeeeeeeeeeee\n",
      "99\n"
     ]
    }
   ],
   "source": [
    "b.move(\"8262\")"
   ]
  },
  {
   "cell_type": "code",
   "execution_count": 15,
   "metadata": {},
   "outputs": [
    {
     "name": "stdout",
     "output_type": "stream",
     "text": [
      "~~~~~~~~~~~~~~~~~~~~\n",
      "99\n",
      "%%%%%%%%%%%%%%%%%%%%\n",
      "99\n",
      "['3132', '3142', '4132', '4142', '4152', '5142', '5152', '5162', '6152', '6162', '6172', '7162', '7172', '7182', '8173', '9192', '2211', '1314', '2324', '3334', '4344', '5354', '6364', '8384', '9394', '7475']\n",
      "====================\n",
      "99\n",
      "0.00018095970153808594\n",
      "0.05817675590515137\n",
      "eeeeeeeeeeeeeeeeeeee\n",
      "99\n"
     ]
    }
   ],
   "source": [
    "b.move(\"9562+\")"
   ]
  },
  {
   "cell_type": "code",
   "execution_count": 16,
   "metadata": {},
   "outputs": [
    {
     "name": "stdout",
     "output_type": "stream",
     "text": [
      "v香v桂v銀v金v王v金v銀v桂n一\n",
      "n一n一n一a馬n一n一n一v角v香\n",
      "v歩v歩n一v歩v歩v歩v歩v歩v歩\n",
      "n一n一v歩n一n一n一n一n一n一\n",
      "n一n一n一n一n一n一n一n一n一\n",
      "n一n一a歩n一n一n一n一n一n一\n",
      "a歩a歩n一a歩a歩a歩a歩a歩a歩\n",
      "n一n一n一n一n一n一n一a飛n一\n",
      "a香a桂a銀a金a王a金a銀a桂a香\n"
     ]
    }
   ],
   "source": [
    "print(b)"
   ]
  },
  {
   "cell_type": "code",
   "execution_count": 17,
   "metadata": {},
   "outputs": [
    {
     "data": {
      "text/plain": [
       "{'gote': {'FU': 0, 'GI': 0, 'HI': 0, 'KA': 0, 'KE': 0, 'KI': 0, 'KY': 0},\n",
       " 'sente': {'FU': 0, 'GI': 0, 'HI': 1, 'KA': 0, 'KE': 0, 'KI': 0, 'KY': 0}}"
      ]
     },
     "execution_count": 17,
     "metadata": {},
     "output_type": "execute_result"
    }
   ],
   "source": [
    "b.all_pieces[\"hand\"]"
   ]
  },
  {
   "cell_type": "code",
   "execution_count": 18,
   "metadata": {
    "scrolled": true
   },
   "outputs": [
    {
     "data": {
      "text/plain": [
       "['5142', '5162', '6162', '7162']"
      ]
     },
     "execution_count": 18,
     "metadata": {},
     "output_type": "execute_result"
    }
   ],
   "source": [
    "b.legal_moves"
   ]
  },
  {
   "cell_type": "code",
   "execution_count": null,
   "metadata": {},
   "outputs": [],
   "source": []
  },
  {
   "cell_type": "code",
   "execution_count": null,
   "metadata": {},
   "outputs": [],
   "source": []
  }
 ],
 "metadata": {
  "kernelspec": {
   "display_name": "Python 3",
   "language": "python",
   "name": "python3"
  },
  "language_info": {
   "codemirror_mode": {
    "name": "ipython",
    "version": 3
   },
   "file_extension": ".py",
   "mimetype": "text/x-python",
   "name": "python",
   "nbconvert_exporter": "python",
   "pygments_lexer": "ipython3",
   "version": "3.6.3"
  }
 },
 "nbformat": 4,
 "nbformat_minor": 2
}
